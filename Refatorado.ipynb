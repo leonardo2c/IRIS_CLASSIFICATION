{
 "cells": [
  {
   "cell_type": "markdown",
   "id": "d02c1d67",
   "metadata": {},
   "source": [
    "Este código refatorado organiza as funcionalidades em funções separadas, tornando o código mais modular e fácil de entender. Isso também facilita a reutilização de partes do código em outros projetos, se necessário."
   ]
  },
  {
   "cell_type": "code",
   "execution_count": 1,
   "id": "68cf9e47",
   "metadata": {},
   "outputs": [
    {
     "name": "stdout",
     "output_type": "stream",
     "text": [
      "Acurácia do modelo: 1.0\n"
     ]
    }
   ],
   "source": [
    "from sklearn.datasets import load_iris\n",
    "from sklearn.model_selection import train_test_split\n",
    "from sklearn.tree import DecisionTreeClassifier\n",
    "from sklearn.metrics import accuracy_score\n",
    "\n",
    "def load_and_split_data():\n",
    "    # Carregando o conjunto de dados iris\n",
    "    iris = load_iris()\n",
    "    X = iris.data\n",
    "    y = iris.target\n",
    "\n",
    "    # Dividindo o conjunto de dados em treinamento e teste\n",
    "    X_train, X_test, y_train, y_test = train_test_split(X, y, test_size=0.2, random_state=42)\n",
    "\n",
    "    return X_train, X_test, y_train, y_test\n",
    "\n",
    "def train_decision_tree(X_train, y_train):\n",
    "    # Criando o modelo de árvore de decisão\n",
    "    model = DecisionTreeClassifier()\n",
    "\n",
    "    # Treinando o modelo\n",
    "    model.fit(X_train, y_train)\n",
    "\n",
    "    return model\n",
    "\n",
    "def evaluate_model(model, X_test, y_test):\n",
    "    # Fazendo previsões no conjunto de teste\n",
    "    y_pred = model.predict(X_test)\n",
    "\n",
    "    # Calculando a acurácia do modelo\n",
    "    accuracy = accuracy_score(y_test, y_pred)\n",
    "\n",
    "    # Exibindo a acurácia\n",
    "    print(f'Acurácia do modelo: {accuracy}')\n",
    "\n",
    "def main():\n",
    "    X_train, X_test, y_train, y_test = load_and_split_data()\n",
    "\n",
    "    # Treinando o modelo\n",
    "    model = train_decision_tree(X_train, y_train)\n",
    "\n",
    "    # Avaliando o modelo\n",
    "    evaluate_model(model, X_test, y_test)\n",
    "\n",
    "if __name__ == \"__main__\":\n",
    "    main()\n"
   ]
  }
 ],
 "metadata": {
  "kernelspec": {
   "display_name": "Python 3 (ipykernel)",
   "language": "python",
   "name": "python3"
  },
  "language_info": {
   "codemirror_mode": {
    "name": "ipython",
    "version": 3
   },
   "file_extension": ".py",
   "mimetype": "text/x-python",
   "name": "python",
   "nbconvert_exporter": "python",
   "pygments_lexer": "ipython3",
   "version": "3.11.5"
  }
 },
 "nbformat": 4,
 "nbformat_minor": 5
}
