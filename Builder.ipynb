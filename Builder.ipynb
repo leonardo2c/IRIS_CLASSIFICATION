{
 "cells": [
  {
   "cell_type": "markdown",
   "id": "a3ea8e39",
   "metadata": {},
   "source": [
    "O design pattern Builder é geralmente utilizado quando a criação de um objeto é complexa e envolve muitos passos. Neste caso, como a criação do modelo de árvore de decisão é relativamente simples, o uso direto da classe DecisionTreeClassifier() é suficiente. O código abaixo serve apênas para ilustrar como poderia ser aplicado o padrão Builder de forma mais geral para um exemplo mais complexo.\n",
    "Neste exemplo, a classe DecisionTreeBuilder é responsável por construir e configurar o modelo de árvore de decisão. Cada método da classe representa uma etapa do processo. No entanto, observe que neste caso específico, a aplicação direta do padrão Builder pode parecer um pouco excessiva. O padrão Builder é mais útil em casos em que a criação do objeto envolve uma lógica mais complexa ou tem muitos parâmetros configuráveis.\n",
    "\n",
    "Aqui está uma versão modificada do código usando o design pattern Builder:"
   ]
  },
  {
   "cell_type": "code",
   "execution_count": 1,
   "id": "80d03dee",
   "metadata": {},
   "outputs": [
    {
     "name": "stdout",
     "output_type": "stream",
     "text": [
      "Acurácia do modelo: 1.0\n"
     ]
    }
   ],
   "source": [
    "from sklearn.datasets import load_iris\n",
    "from sklearn.model_selection import train_test_split\n",
    "from sklearn.tree import DecisionTreeClassifier\n",
    "from sklearn.metrics import accuracy_score\n",
    "\n",
    "class DecisionTreeBuilder:\n",
    "    def __init__(self):\n",
    "        self.model = DecisionTreeClassifier()\n",
    "\n",
    "    def load_data(self):\n",
    "        # Carregando o conjunto de dados iris\n",
    "        iris = load_iris()\n",
    "        X = iris.data\n",
    "        y = iris.target\n",
    "\n",
    "        # Dividindo o conjunto de dados em treinamento e teste\n",
    "        self.X_train, self.X_test, self.y_train, self.y_test = train_test_split(X, y, test_size=0.2, random_state=42)\n",
    "\n",
    "        return self\n",
    "\n",
    "    def train_model(self):\n",
    "        # Treinando o modelo\n",
    "        self.model.fit(self.X_train, self.y_train)\n",
    "\n",
    "        return self\n",
    "\n",
    "    def evaluate_model(self):\n",
    "        # Fazendo previsões no conjunto de teste\n",
    "        y_pred = self.model.predict(self.X_test)\n",
    "\n",
    "        # Calculando a acurácia do modelo\n",
    "        accuracy = accuracy_score(self.y_test, y_pred)\n",
    "\n",
    "        # Exibindo a acurácia\n",
    "        print(f'Acurácia do modelo: {accuracy}')\n",
    "\n",
    "        return self\n",
    "\n",
    "def main():\n",
    "    builder = DecisionTreeBuilder()\n",
    "    builder.load_data().train_model().evaluate_model()\n",
    "\n",
    "if __name__ == \"__main__\":\n",
    "    main()\n"
   ]
  },
  {
   "cell_type": "code",
   "execution_count": null,
   "id": "2ef76c60",
   "metadata": {},
   "outputs": [],
   "source": []
  }
 ],
 "metadata": {
  "kernelspec": {
   "display_name": "Python 3 (ipykernel)",
   "language": "python",
   "name": "python3"
  },
  "language_info": {
   "codemirror_mode": {
    "name": "ipython",
    "version": 3
   },
   "file_extension": ".py",
   "mimetype": "text/x-python",
   "name": "python",
   "nbconvert_exporter": "python",
   "pygments_lexer": "ipython3",
   "version": "3.11.5"
  }
 },
 "nbformat": 4,
 "nbformat_minor": 5
}
