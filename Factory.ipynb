{
 "cells": [
  {
   "cell_type": "markdown",
   "id": "c544039b",
   "metadata": {},
   "source": [
    "Aqui está uma versão do código utilizando o padrão de projeto Factory. Neste exemplo,há uma classe ModelFactory para encapsular a lógica de criação do modelo. Isso pode ser útil se há intenção em expandir para outros tipos de modelos no futuro.\n",
    "O padrão de projeto criacional Factory ajuda a isolar a criação de objetos, fornecendo uma interface para a criação de instâncias de classes, tornando o código mais flexível e facilitando a manutenção e expansão futuras."
   ]
  },
  {
   "cell_type": "code",
   "execution_count": 1,
   "id": "463ac58a",
   "metadata": {},
   "outputs": [
    {
     "name": "stdout",
     "output_type": "stream",
     "text": [
      "Acurácia do modelo: 1.0\n"
     ]
    }
   ],
   "source": [
    "from sklearn.datasets import load_iris\n",
    "from sklearn.model_selection import train_test_split\n",
    "from sklearn.tree import DecisionTreeClassifier\n",
    "from sklearn.metrics import accuracy_score\n",
    "\n",
    "class ModelFactory:\n",
    "    @staticmethod\n",
    "    def create_decision_tree():\n",
    "        return DecisionTreeClassifier()\n",
    "\n",
    "def load_and_split_data():\n",
    "    iris = load_iris()\n",
    "    X = iris.data\n",
    "    y = iris.target\n",
    "    X_train, X_test, y_train, y_test = train_test_split(X, y, test_size=0.2, random_state=42)\n",
    "    return X_train, X_test, y_train, y_test\n",
    "\n",
    "def train_model(model, X_train, y_train):\n",
    "    model.fit(X_train, y_train)\n",
    "    return model\n",
    "\n",
    "def evaluate_model(model, X_test, y_test):\n",
    "    y_pred = model.predict(X_test)\n",
    "    accuracy = accuracy_score(y_test, y_pred)\n",
    "    print(f'Acurácia do modelo: {accuracy}')\n",
    "\n",
    "def main():\n",
    "    X_train, X_test, y_train, y_test = load_and_split_data()\n",
    "\n",
    "    # Usando a Factory para criar um modelo de árvore de decisão\n",
    "    model_factory = ModelFactory()\n",
    "    decision_tree_model = model_factory.create_decision_tree()\n",
    "\n",
    "    # Treinando o modelo\n",
    "    trained_model = train_model(decision_tree_model, X_train, y_train)\n",
    "\n",
    "    # Avaliando o modelo\n",
    "    evaluate_model(trained_model, X_test, y_test)\n",
    "\n",
    "if __name__ == \"__main__\":\n",
    "    main()\n"
   ]
  }
 ],
 "metadata": {
  "kernelspec": {
   "display_name": "Python 3 (ipykernel)",
   "language": "python",
   "name": "python3"
  },
  "language_info": {
   "codemirror_mode": {
    "name": "ipython",
    "version": 3
   },
   "file_extension": ".py",
   "mimetype": "text/x-python",
   "name": "python",
   "nbconvert_exporter": "python",
   "pygments_lexer": "ipython3",
   "version": "3.11.5"
  }
 },
 "nbformat": 4,
 "nbformat_minor": 5
}
